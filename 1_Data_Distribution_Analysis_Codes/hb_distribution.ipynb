{
 "cells": [
  {
   "cell_type": "code",
   "execution_count": 1,
   "id": "cc44745b-851e-4ce5-9988-ff07938d631c",
   "metadata": {},
   "outputs": [],
   "source": [
    "import numpy as np \n",
    "import pandas as pd\n",
    "import matplotlib.pyplot as plt \n",
    "from skimage.io import imread\n",
    "import os\n",
    "from glob import glob\n",
    "%matplotlib inline \n",
    "from collections import Counter\n",
    "import shutil\n"
   ]
  },
  {
   "cell_type": "code",
   "execution_count": 14,
   "id": "8f18bd86-3761-4e2a-8838-d616fcc8b00b",
   "metadata": {},
   "outputs": [],
   "source": [
    "base_bone_dir = os.path.join('/Users/asmitha/Documents')\n",
    "age_df = pd.read_excel(os.path.join(base_bone_dir, 'Anemia_dataset_train.xlsx'), sheet_name = 'Sheet1')"
   ]
  },
  {
   "cell_type": "code",
   "execution_count": 15,
   "id": "18b3d38b-09b0-434a-acc1-1213203bccfb",
   "metadata": {},
   "outputs": [
    {
     "data": {
      "text/html": [
       "<div>\n",
       "<style scoped>\n",
       "    .dataframe tbody tr th:only-of-type {\n",
       "        vertical-align: middle;\n",
       "    }\n",
       "\n",
       "    .dataframe tbody tr th {\n",
       "        vertical-align: top;\n",
       "    }\n",
       "\n",
       "    .dataframe thead th {\n",
       "        text-align: right;\n",
       "    }\n",
       "</style>\n",
       "<table border=\"1\" class=\"dataframe\">\n",
       "  <thead>\n",
       "    <tr style=\"text-align: right;\">\n",
       "      <th></th>\n",
       "      <th>Unnamed: 0</th>\n",
       "      <th>index</th>\n",
       "      <th>Total Serial Number</th>\n",
       "      <th>S No.</th>\n",
       "      <th>Unique ID</th>\n",
       "      <th>Blood Sample ID</th>\n",
       "      <th>Haemoglobin (in mg/dl)</th>\n",
       "      <th>Age (in years)</th>\n",
       "      <th>Gender</th>\n",
       "    </tr>\n",
       "  </thead>\n",
       "  <tbody>\n",
       "    <tr>\n",
       "      <th>0</th>\n",
       "      <td>0</td>\n",
       "      <td>0.0</td>\n",
       "      <td>1</td>\n",
       "      <td>1</td>\n",
       "      <td>NaN</td>\n",
       "      <td>2024030518</td>\n",
       "      <td>10.5</td>\n",
       "      <td>75</td>\n",
       "      <td>Female</td>\n",
       "    </tr>\n",
       "    <tr>\n",
       "      <th>1</th>\n",
       "      <td>1</td>\n",
       "      <td>2.0</td>\n",
       "      <td>3</td>\n",
       "      <td>3</td>\n",
       "      <td>NaN</td>\n",
       "      <td>2024030549</td>\n",
       "      <td>13.2</td>\n",
       "      <td>65</td>\n",
       "      <td>Male</td>\n",
       "    </tr>\n",
       "    <tr>\n",
       "      <th>2</th>\n",
       "      <td>2</td>\n",
       "      <td>3.0</td>\n",
       "      <td>4</td>\n",
       "      <td>4</td>\n",
       "      <td>NaN</td>\n",
       "      <td>2024030516</td>\n",
       "      <td>13.1</td>\n",
       "      <td>44</td>\n",
       "      <td>Female</td>\n",
       "    </tr>\n",
       "    <tr>\n",
       "      <th>3</th>\n",
       "      <td>3</td>\n",
       "      <td>4.0</td>\n",
       "      <td>6</td>\n",
       "      <td>6</td>\n",
       "      <td>NaN</td>\n",
       "      <td>202403054</td>\n",
       "      <td>10.4</td>\n",
       "      <td>70</td>\n",
       "      <td>Male</td>\n",
       "    </tr>\n",
       "    <tr>\n",
       "      <th>4</th>\n",
       "      <td>4</td>\n",
       "      <td>5.0</td>\n",
       "      <td>7</td>\n",
       "      <td>7</td>\n",
       "      <td>NaN</td>\n",
       "      <td>2024030523</td>\n",
       "      <td>9.7</td>\n",
       "      <td>70</td>\n",
       "      <td>Male</td>\n",
       "    </tr>\n",
       "  </tbody>\n",
       "</table>\n",
       "</div>"
      ],
      "text/plain": [
       "   Unnamed: 0  index  Total Serial Number  S No.  Unique ID  Blood Sample ID  \\\n",
       "0           0    0.0                    1      1        NaN       2024030518   \n",
       "1           1    2.0                    3      3        NaN       2024030549   \n",
       "2           2    3.0                    4      4        NaN       2024030516   \n",
       "3           3    4.0                    6      6        NaN        202403054   \n",
       "4           4    5.0                    7      7        NaN       2024030523   \n",
       "\n",
       "   Haemoglobin (in mg/dl) Age (in years)  Gender  \n",
       "0                    10.5             75  Female  \n",
       "1                    13.2             65    Male  \n",
       "2                    13.1             44  Female  \n",
       "3                    10.4             70    Male  \n",
       "4                     9.7             70    Male  "
      ]
     },
     "execution_count": 15,
     "metadata": {},
     "output_type": "execute_result"
    }
   ],
   "source": [
    "age_df.head()"
   ]
  },
  {
   "cell_type": "code",
   "execution_count": 16,
   "id": "374ad3bc-7b34-4f61-8168-c46021b54cce",
   "metadata": {},
   "outputs": [],
   "source": [
    "age_df.rename(columns={age_df.columns[6]: 'Hb'}, inplace=True)"
   ]
  },
  {
   "cell_type": "code",
   "execution_count": 17,
   "id": "4bf4f6ca-0242-47aa-99aa-b8750a650799",
   "metadata": {},
   "outputs": [
    {
     "data": {
      "text/html": [
       "<div>\n",
       "<style scoped>\n",
       "    .dataframe tbody tr th:only-of-type {\n",
       "        vertical-align: middle;\n",
       "    }\n",
       "\n",
       "    .dataframe tbody tr th {\n",
       "        vertical-align: top;\n",
       "    }\n",
       "\n",
       "    .dataframe thead th {\n",
       "        text-align: right;\n",
       "    }\n",
       "</style>\n",
       "<table border=\"1\" class=\"dataframe\">\n",
       "  <thead>\n",
       "    <tr style=\"text-align: right;\">\n",
       "      <th></th>\n",
       "      <th>Unnamed: 0</th>\n",
       "      <th>index</th>\n",
       "      <th>Total Serial Number</th>\n",
       "      <th>S No.</th>\n",
       "      <th>Unique ID</th>\n",
       "      <th>Blood Sample ID</th>\n",
       "      <th>Hb</th>\n",
       "      <th>Age (in years)</th>\n",
       "      <th>Gender</th>\n",
       "    </tr>\n",
       "  </thead>\n",
       "  <tbody>\n",
       "    <tr>\n",
       "      <th>0</th>\n",
       "      <td>0</td>\n",
       "      <td>0.0</td>\n",
       "      <td>1</td>\n",
       "      <td>1</td>\n",
       "      <td>NaN</td>\n",
       "      <td>2024030518</td>\n",
       "      <td>10.5</td>\n",
       "      <td>75</td>\n",
       "      <td>Female</td>\n",
       "    </tr>\n",
       "    <tr>\n",
       "      <th>1</th>\n",
       "      <td>1</td>\n",
       "      <td>2.0</td>\n",
       "      <td>3</td>\n",
       "      <td>3</td>\n",
       "      <td>NaN</td>\n",
       "      <td>2024030549</td>\n",
       "      <td>13.2</td>\n",
       "      <td>65</td>\n",
       "      <td>Male</td>\n",
       "    </tr>\n",
       "    <tr>\n",
       "      <th>2</th>\n",
       "      <td>2</td>\n",
       "      <td>3.0</td>\n",
       "      <td>4</td>\n",
       "      <td>4</td>\n",
       "      <td>NaN</td>\n",
       "      <td>2024030516</td>\n",
       "      <td>13.1</td>\n",
       "      <td>44</td>\n",
       "      <td>Female</td>\n",
       "    </tr>\n",
       "    <tr>\n",
       "      <th>3</th>\n",
       "      <td>3</td>\n",
       "      <td>4.0</td>\n",
       "      <td>6</td>\n",
       "      <td>6</td>\n",
       "      <td>NaN</td>\n",
       "      <td>202403054</td>\n",
       "      <td>10.4</td>\n",
       "      <td>70</td>\n",
       "      <td>Male</td>\n",
       "    </tr>\n",
       "    <tr>\n",
       "      <th>4</th>\n",
       "      <td>4</td>\n",
       "      <td>5.0</td>\n",
       "      <td>7</td>\n",
       "      <td>7</td>\n",
       "      <td>NaN</td>\n",
       "      <td>2024030523</td>\n",
       "      <td>9.7</td>\n",
       "      <td>70</td>\n",
       "      <td>Male</td>\n",
       "    </tr>\n",
       "  </tbody>\n",
       "</table>\n",
       "</div>"
      ],
      "text/plain": [
       "   Unnamed: 0  index  Total Serial Number  S No.  Unique ID  Blood Sample ID  \\\n",
       "0           0    0.0                    1      1        NaN       2024030518   \n",
       "1           1    2.0                    3      3        NaN       2024030549   \n",
       "2           2    3.0                    4      4        NaN       2024030516   \n",
       "3           3    4.0                    6      6        NaN        202403054   \n",
       "4           4    5.0                    7      7        NaN       2024030523   \n",
       "\n",
       "     Hb Age (in years)  Gender  \n",
       "0  10.5             75  Female  \n",
       "1  13.2             65    Male  \n",
       "2  13.1             44  Female  \n",
       "3  10.4             70    Male  \n",
       "4   9.7             70    Male  "
      ]
     },
     "execution_count": 17,
     "metadata": {},
     "output_type": "execute_result"
    }
   ],
   "source": [
    "age_df.head()"
   ]
  },
  {
   "cell_type": "code",
   "execution_count": 18,
   "id": "c1caafb9-48eb-4d82-b73d-ff98e3d14886",
   "metadata": {},
   "outputs": [
    {
     "name": "stdout",
     "output_type": "stream",
     "text": [
      "Counter({12.4: 19, 10.5: 17, 10.4: 15, 12.1: 15, 9.9: 12, 10.9: 12, 11.1: 11, 11.8: 10, 10.8: 10, 14.1: 9, 13.9: 9, 13.1: 8, 13.8: 8, 9.0: 8, 11.4: 7, 10.2: 7, 9.7: 6, 11.5: 6, 9.1: 6, 12.8: 6, 9.8: 6, 13.2: 5, 11.9: 5, 12.5: 5, 9.5: 5, 12.9: 5, 10.0: 4, 15.2: 4, 14.0: 4, 10.7: 4, 12.7: 4, 11.6: 4, 9.2: 4, 11.2: 4, 13.6: 3, 12.2: 3, 10.6: 3, 10.1: 3, 14.5: 3, 9.4: 3, 9.3: 3, 11.3: 3, 13.5: 3, 8.5: 3, 15.8: 3, 8.9: 3, 7.0: 3, 13.4: 2, 15.1: 2, 8.4: 2, 9.6: 2, 15.4: 2, 11.0: 2, 14.8: 2, 11.7: 2, 12.3: 2, 14.7: 1, 12.0: 1, 12.6: 1, 14.3: 1, 8.8: 1, 16.1: 1, 14.9: 1, 7.9: 1, 15.9: 1, 7.8: 1, 8.7: 1, 8.1: 1, 13.3: 1, 14.2: 1, 7.6: 1, 10.3: 1, 7.1: 1, 3.7: 1, 13.7: 1})\n"
     ]
    }
   ],
   "source": [
    "label_counts = Counter(age_df['Hb'])\n",
    "\n",
    "print(label_counts)"
   ]
  },
  {
   "cell_type": "code",
   "execution_count": 22,
   "id": "a144af59-19c9-4c4b-9773-a43b3d70bcaf",
   "metadata": {},
   "outputs": [
    {
     "data": {
      "image/png": "[encoded data removed]",
      "text/plain": [
       "<Figure size 1200x600 with 1 Axes>"
      ]
     },
     "metadata": {},
     "output_type": "display_data"
    }
   ],
   "source": [
    "plt.figure(figsize=(12, 6))\n",
    "plt.bar(label_counts.keys(), label_counts.values(), color='orange', width=0.4, edgecolor='black')\n",
    "plt.xlabel(\"Hb Value\")\n",
    "plt.ylabel(\"Frequency\")\n",
    "plt.title(\"Hb Distribution\")\n",
    "plt.show()"
   ]
  },
  {
   "cell_type": "code",
   "execution_count": 26,
   "id": "b09c5a8c-7578-439f-a48c-69e5f72e65c5",
   "metadata": {},
   "outputs": [
    {
     "data": {
      "image/png": "[encoded data removed]",
      "text/plain": [
       "<Figure size 1200x600 with 1 Axes>"
      ]
     },
     "metadata": {},
     "output_type": "display_data"
    }
   ],
   "source": [
    "hb_values = age_df['Hb']\n",
    "min_value = int(np.floor(min(hb_values))) \n",
    "max_value = int(np.ceil(max(hb_values)))\n",
    "bins = np.arange(min_value, max_value + 2) \n",
    "\n",
    "plt.figure(figsize=(12, 6))\n",
    "counts, bins, patches = plt.hist(hb_values, bins=bins, color='blue', edgecolor='black', alpha=0.7)\n",
    "\n",
    "plt.xlabel(\"Hb Value\")\n",
    "plt.ylabel(\"Frequency\")\n",
    "plt.title(\"Hb Distribution\")\n",
    "\n",
    "tick_labels = [f'{i}' for i in range(min_value, max_value + 1)]\n",
    "plt.xticks(np.arange(min_value, max_value + 1), tick_labels, rotation=45)\n",
    "\n",
    "for patch, count in zip(patches, counts):\n",
    "    x_pos = patch.get_x() + patch.get_width() / 2\n",
    "    plt.text(x_pos, patch.get_height(), f'{int(count)}', ha='center', va='bottom', fontsize=10)\n",
    "\n",
    "plt.show()"
   ]
  },
  {
   "cell_type": "code",
   "execution_count": null,
   "id": "dc93945e-da3b-441b-a00f-c0a71021918b",
   "metadata": {},
   "outputs": [],
   "source": []
  }
 ],
 "metadata": {
  "kernelspec": {
   "display_name": "Python 3 (ipykernel)",
   "language": "python",
   "name": "python3"
  },
  "language_info": {
   "codemirror_mode": {
    "name": "ipython",
    "version": 3
   },
   "file_extension": ".py",
   "mimetype": "text/x-python",
   "name": "python",
   "nbconvert_exporter": "python",
   "pygments_lexer": "ipython3",
   "version": "3.11.7"
  }
 },
 "nbformat": 4,
 "nbformat_minor": 5
}
